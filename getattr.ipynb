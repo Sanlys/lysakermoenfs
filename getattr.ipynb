{
 "cells": [
  {
   "cell_type": "code",
   "execution_count": 4,
   "metadata": {},
   "outputs": [],
   "source": [
    "import os\n",
    "from fuse import FuseOSError\n",
    "import errno\n",
    "import requests\n",
    "from bs4 import BeautifulSoup\n",
    "import re\n",
    "from datetime import datetime"
   ]
  },
  {
   "cell_type": "code",
   "execution_count": 16,
   "metadata": {},
   "outputs": [],
   "source": [
    "def fetch_entries_from_web(parentPath):\n",
    "    output = [\n",
    "        {\n",
    "            \"name\": \"..\",\n",
    "            \"size\": \"-\",\n",
    "            \"is_directory\": True,\n",
    "            \"last_updated\": 0\n",
    "        },\n",
    "        {\n",
    "            \"name\": \".\",\n",
    "            \"size\": \"-\",\n",
    "            \"is_directory\": True,\n",
    "            \"last_updated\": 0\n",
    "        },\n",
    "    ]\n",
    "    # output[0]\n",
    "    # {\n",
    "    #   name: string,\n",
    "    #   size: int(bytes)\n",
    "    #   is_directory: boolean\n",
    "    #   last_updated: int(datetime(yyyy, m, d, hh, mm).timestamp)\n",
    "    # }\n",
    "    response = requests.get(\"https://lysakermoen.com\"+parentPath)\n",
    "    soup = BeautifulSoup(response.text, 'html.parser')\n",
    "    links = soup.find_all('a')\n",
    "    for link in links:\n",
    "        fileObject = {}\n",
    "        clean_sibling = link.next_sibling.strip()\n",
    "        clean_sibling = re.sub(' +', ' ', clean_sibling)\n",
    "        if clean_sibling == '':\n",
    "            \n",
    "            output.append(fileObject)\n",
    "            continue\n",
    "        datestring, fileSize = re.match(r'^(\\d\\d-[A-Z][a-z]{2}-\\d\\d\\d\\d \\d\\d:\\d\\d) ([0-9-]+)$', clean_sibling).groups()\n",
    "        fileObject[\"name\"] = re.match(r'([^\\/]+)', link.get('href')).groups()[0]\n",
    "        fileObject[\"size\"] = fileSize\n",
    "        fileObject[\"is_directory\"] = bool(re.search(r'/$', link.get('href')))\n",
    "        fileObject[\"last_updated\"] = int(datetime.strptime(datestring, \"%d-%b-%Y %H:%M\").timestamp())\n",
    "        output.append(fileObject)\n",
    "    return output\n"
   ]
  },
  {
   "cell_type": "code",
   "execution_count": 7,
   "metadata": {},
   "outputs": [],
   "source": [
    "def find_matching_entry(entries, entryname):\n",
    "    for entry in entries:\n",
    "        if entry[\"name\"] == entryname:\n",
    "            return entry\n",
    "    \n",
    "    return None\n",
    "    "
   ]
  },
  {
   "cell_type": "code",
   "execution_count": 8,
   "metadata": {},
   "outputs": [],
   "source": [
    "def build_result(matching_entry):\n",
    "    if matching_entry[\"is_directory\"]:\n",
    "        return dict(st_mode=(0o040000 | 0o555), st_nlink=2, st_mtime=matching_entry[\"last_updated\"])\n",
    "    else:\n",
    "        return dict(st_mode=(0o100000 | 0o444), st_nlink=1, st_size=matching_entry[\"size\"], st_mtime=matching_entry[\"last_updated\"])"
   ]
  },
  {
   "cell_type": "code",
   "execution_count": 14,
   "metadata": {},
   "outputs": [],
   "source": [
    "def getattr(path):\n",
    "    result = handle_special_cases(path)\n",
    "    if result:\n",
    "        return result\n",
    "\n",
    "    parentPath = os.path.dirname(path)\n",
    "    entries = fetch_entries_from_web(parentPath)\n",
    "    print(entries)\n",
    "    entryname = os.path.basename(path)\n",
    "    matching_entry = find_matching_entry(entries, entryname)\n",
    "    \n",
    "    if matching_entry is None:\n",
    "        raise FuseOSError(errno.ENOENT)\n",
    "\n",
    "    return build_result(matching_entry)"
   ]
  },
  {
   "cell_type": "code",
   "execution_count": 18,
   "metadata": {},
   "outputs": [
    {
     "name": "stdout",
     "output_type": "stream",
     "text": [
      "[{'name': '..', 'size': '-', 'is_directory': True, 'last_updated': 0}, {'name': '.', 'size': '-', 'is_directory': True, 'last_updated': 0}, {}, {'name': 'Sanderflix.sh', 'size': '274', 'is_directory': False, 'last_updated': 1649424060}, {'name': 'installer.sh', 'size': '1379', 'is_directory': False, 'last_updated': 1649424060}, {'name': 'packettracer.sh', 'size': '352', 'is_directory': False, 'last_updated': 1649424060}]\n"
     ]
    },
    {
     "data": {
      "text/plain": [
       "{'st_mode': 16749, 'st_nlink': 2, 'st_mtime': 0}"
      ]
     },
     "execution_count": 18,
     "metadata": {},
     "output_type": "execute_result"
    }
   ],
   "source": [
    "getattr(\"/Software/Linux/Scripts/CustomScripts/..\")"
   ]
  },
  {
   "cell_type": "code",
   "execution_count": null,
   "metadata": {},
   "outputs": [],
   "source": []
  }
 ],
 "metadata": {
  "kernelspec": {
   "display_name": "Python 3",
   "language": "python",
   "name": "python3"
  },
  "language_info": {
   "codemirror_mode": {
    "name": "ipython",
    "version": 3
   },
   "file_extension": ".py",
   "mimetype": "text/x-python",
   "name": "python",
   "nbconvert_exporter": "python",
   "pygments_lexer": "ipython3",
   "version": "3.9.6"
  },
  "orig_nbformat": 4
 },
 "nbformat": 4,
 "nbformat_minor": 2
}
